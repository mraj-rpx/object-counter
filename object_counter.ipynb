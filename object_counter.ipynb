{
 "cells": [
  {
   "cell_type": "code",
   "execution_count": 1,
   "id": "20f9af9a",
   "metadata": {},
   "outputs": [],
   "source": [
    "import sys\n",
    "import os\n",
    "\n",
    "sys.path.append(os.path.abspath(\"app\"))"
   ]
  },
  {
   "cell_type": "code",
   "execution_count": 2,
   "id": "b5dead07",
   "metadata": {},
   "outputs": [],
   "source": [
    "UPLOAD_FOLDER = 'video'\n",
    "RESULT_FOLDER = 'results'"
   ]
  },
  {
   "cell_type": "code",
   "execution_count": 3,
   "id": "b026bf38",
   "metadata": {},
   "outputs": [],
   "source": [
    "import cv2\n",
    "from detector import ObjectDetector\n",
    "from tracker import ObjectTracker\n",
    "from counter import RegionCounter\n",
    "from speed_estimator import SpeedEstimator\n",
    "from utils import draw_detections, draw_regions, draw_speed\n",
    "\n",
    "def process_video(input_path, output_path):\n",
    "    cap = cv2.VideoCapture(input_path)\n",
    "    width = int(cap.get(cv2.CAP_PROP_FRAME_WIDTH))\n",
    "    height = int(cap.get(cv2.CAP_PROP_FRAME_HEIGHT))\n",
    "    fps = cap.get(cv2.CAP_PROP_FPS)\n",
    "    \n",
    "    out = cv2.VideoWriter(output_path, cv2.VideoWriter_fourcc(*'mp4v'), fps, (width, height))\n",
    "\n",
    "    detector = ObjectDetector()\n",
    "    tracker = ObjectTracker()\n",
    "    regions = [('Entry', (100, 100, 300, 300)), ('Exit', (400, 100, 600, 300))]\n",
    "    counter = RegionCounter(regions)\n",
    "    speed_estimator = SpeedEstimator(fps=fps, ppm=10)  # PPM: pixels per meter\n",
    "\n",
    "    while True:\n",
    "        ret, frame = cap.read()\n",
    "        if not ret:\n",
    "            break\n",
    "\n",
    "        detections = detector.detect(frame)  # list of (x, y, w, h)\n",
    "        tracked_objects = tracker.update(frame, detections)  # list of (id, (x, y, w, h))\n",
    "\n",
    "        # Update counter and speed estimator\n",
    "        for obj_id, bbox in tracked_objects:\n",
    "            counter.update(obj_id, bbox)\n",
    "            speed = speed_estimator.update(obj_id, bbox)\n",
    "            draw_speed(frame, obj_id, bbox, speed)\n",
    "\n",
    "        draw_regions(frame, regions)\n",
    "        draw_detections(frame, tracked_objects)  # now supports drawing with IDs\n",
    "        out.write(frame)\n",
    "\n",
    "    cap.release()\n",
    "    out.release()"
   ]
  },
  {
   "cell_type": "code",
   "execution_count": 4,
   "id": "b53b03bd",
   "metadata": {},
   "outputs": [
    {
     "name": "stdout",
     "output_type": "stream",
     "text": [
      "\n",
      "0: 384x640 7 cars, 2 buss, 1 train, 64.5ms\n",
      "Speed: 5.2ms preprocess, 64.5ms inference, 1.7ms postprocess per image at shape (1, 3, 384, 640)\n"
     ]
    },
    {
     "ename": "error",
     "evalue": "OpenCV(4.11.0) :-1: error: (-5:Bad argument) in function 'init'\n> Overload resolution failed:\n>  - Can't parse 'boundingBox'. Input argument doesn't provide sequence protocol\n>  - Can't parse 'boundingBox'. Input argument doesn't provide sequence protocol\n",
     "output_type": "error",
     "traceback": [
      "\u001b[0;31m---------------------------------------------------------------------------\u001b[0m",
      "\u001b[0;31merror\u001b[0m                                     Traceback (most recent call last)",
      "Cell \u001b[0;32mIn[4], line 1\u001b[0m\n\u001b[0;32m----> 1\u001b[0m \u001b[43mprocess_video\u001b[49m\u001b[43m(\u001b[49m\u001b[38;5;124;43m\"\u001b[39;49m\u001b[38;5;124;43mvideos/Car_Road_Video_for_OD.mov\u001b[39;49m\u001b[38;5;124;43m\"\u001b[39;49m\u001b[43m,\u001b[49m\u001b[43m \u001b[49m\u001b[38;5;124;43m\"\u001b[39;49m\u001b[38;5;124;43mresults/Process_Video.mov\u001b[39;49m\u001b[38;5;124;43m\"\u001b[39;49m\u001b[43m)\u001b[49m\n",
      "Cell \u001b[0;32mIn[3], line 28\u001b[0m, in \u001b[0;36mprocess_video\u001b[0;34m(input_path, output_path)\u001b[0m\n\u001b[1;32m     25\u001b[0m     \u001b[38;5;28;01mbreak\u001b[39;00m\n\u001b[1;32m     27\u001b[0m detections \u001b[38;5;241m=\u001b[39m detector\u001b[38;5;241m.\u001b[39mdetect(frame)  \u001b[38;5;66;03m# list of (x, y, w, h)\u001b[39;00m\n\u001b[0;32m---> 28\u001b[0m tracked_objects \u001b[38;5;241m=\u001b[39m \u001b[43mtracker\u001b[49m\u001b[38;5;241;43m.\u001b[39;49m\u001b[43mupdate\u001b[49m\u001b[43m(\u001b[49m\u001b[43mframe\u001b[49m\u001b[43m,\u001b[49m\u001b[43m \u001b[49m\u001b[43mdetections\u001b[49m\u001b[43m)\u001b[49m  \u001b[38;5;66;03m# list of (id, (x, y, w, h))\u001b[39;00m\n\u001b[1;32m     30\u001b[0m \u001b[38;5;66;03m# Update counter and speed estimator\u001b[39;00m\n\u001b[1;32m     31\u001b[0m \u001b[38;5;28;01mfor\u001b[39;00m obj_id, bbox \u001b[38;5;129;01min\u001b[39;00m tracked_objects:\n",
      "File \u001b[0;32m~/Projects/START-ML/SEM4/ADL/object-counter/app/tracker.py:16\u001b[0m, in \u001b[0;36mObjectTracker.update\u001b[0;34m(self, frame, detections)\u001b[0m\n\u001b[1;32m     14\u001b[0m \u001b[38;5;28;01mif\u001b[39;00m \u001b[38;5;129;01mnot\u001b[39;00m \u001b[38;5;28mself\u001b[39m\u001b[38;5;241m.\u001b[39minitialized:\n\u001b[1;32m     15\u001b[0m     \u001b[38;5;28;01mif\u001b[39;00m detections:\n\u001b[0;32m---> 16\u001b[0m         \u001b[38;5;28;43mself\u001b[39;49m\u001b[38;5;241;43m.\u001b[39;49m\u001b[43minitialize\u001b[49m\u001b[43m(\u001b[49m\u001b[43mframe\u001b[49m\u001b[43m,\u001b[49m\u001b[43m \u001b[49m\u001b[43mdetections\u001b[49m\u001b[43m[\u001b[49m\u001b[38;5;241;43m0\u001b[39;49m\u001b[43m]\u001b[49m\u001b[43m)\u001b[49m  \u001b[38;5;66;03m# track first detected object\u001b[39;00m\n\u001b[1;32m     17\u001b[0m         \u001b[38;5;28;01mreturn\u001b[39;00m [detections[\u001b[38;5;241m0\u001b[39m]]\n\u001b[1;32m     18\u001b[0m     \u001b[38;5;28;01mreturn\u001b[39;00m []\n",
      "File \u001b[0;32m~/Projects/START-ML/SEM4/ADL/object-counter/app/tracker.py:10\u001b[0m, in \u001b[0;36mObjectTracker.initialize\u001b[0;34m(self, frame, bbox)\u001b[0m\n\u001b[1;32m      8\u001b[0m \u001b[38;5;28;01mdef\u001b[39;00m\u001b[38;5;250m \u001b[39m\u001b[38;5;21minitialize\u001b[39m(\u001b[38;5;28mself\u001b[39m, frame, bbox):\n\u001b[1;32m      9\u001b[0m     \u001b[38;5;28mself\u001b[39m\u001b[38;5;241m.\u001b[39mtracker \u001b[38;5;241m=\u001b[39m cv2\u001b[38;5;241m.\u001b[39mTrackerKCF_create()\n\u001b[0;32m---> 10\u001b[0m     \u001b[38;5;28;43mself\u001b[39;49m\u001b[38;5;241;43m.\u001b[39;49m\u001b[43mtracker\u001b[49m\u001b[38;5;241;43m.\u001b[39;49m\u001b[43minit\u001b[49m\u001b[43m(\u001b[49m\u001b[43mframe\u001b[49m\u001b[43m,\u001b[49m\u001b[43m \u001b[49m\u001b[43mbbox\u001b[49m\u001b[43m)\u001b[49m\n\u001b[1;32m     11\u001b[0m     \u001b[38;5;28mself\u001b[39m\u001b[38;5;241m.\u001b[39minitialized \u001b[38;5;241m=\u001b[39m \u001b[38;5;28;01mTrue\u001b[39;00m\n",
      "\u001b[0;31merror\u001b[0m: OpenCV(4.11.0) :-1: error: (-5:Bad argument) in function 'init'\n> Overload resolution failed:\n>  - Can't parse 'boundingBox'. Input argument doesn't provide sequence protocol\n>  - Can't parse 'boundingBox'. Input argument doesn't provide sequence protocol\n"
     ]
    }
   ],
   "source": [
    "process_video(\"videos/Car_Road_Video_for_OD.mov\", \"results/Process_Video.mov\")"
   ]
  }
 ],
 "metadata": {
  "kernelspec": {
   "display_name": "Python 3.9 (yolo_env)",
   "language": "python",
   "name": "yolo_env"
  },
  "language_info": {
   "codemirror_mode": {
    "name": "ipython",
    "version": 3
   },
   "file_extension": ".py",
   "mimetype": "text/x-python",
   "name": "python",
   "nbconvert_exporter": "python",
   "pygments_lexer": "ipython3",
   "version": "3.9.21"
  },
  "varInspector": {
   "cols": {
    "lenName": 16,
    "lenType": 16,
    "lenVar": 40
   },
   "kernels_config": {
    "python": {
     "delete_cmd_postfix": "",
     "delete_cmd_prefix": "del ",
     "library": "var_list.py",
     "varRefreshCmd": "print(var_dic_list())"
    },
    "r": {
     "delete_cmd_postfix": ") ",
     "delete_cmd_prefix": "rm(",
     "library": "var_list.r",
     "varRefreshCmd": "cat(var_dic_list()) "
    }
   },
   "types_to_exclude": [
    "module",
    "function",
    "builtin_function_or_method",
    "instance",
    "_Feature"
   ],
   "window_display": false
  }
 },
 "nbformat": 4,
 "nbformat_minor": 5
}
